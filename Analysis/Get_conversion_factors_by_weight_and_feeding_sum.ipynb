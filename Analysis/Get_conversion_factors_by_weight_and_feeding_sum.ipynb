{
 "cells": [
  {
   "cell_type": "code",
   "execution_count": 1,
   "metadata": {},
   "outputs": [],
   "source": [
    "import numpy as np\n",
    "import pandas as pd\n",
    "from os import sep as sep"
   ]
  },
  {
   "cell_type": "code",
   "execution_count": 2,
   "metadata": {},
   "outputs": [],
   "source": [
    "exp_path = r\"Y:\\Lior&Einav\\Experiments\\experiment11_140720\""
   ]
  },
  {
   "cell_type": "code",
   "execution_count": 3,
   "metadata": {},
   "outputs": [],
   "source": [
    "fdata = pd.read_csv(exp_path+sep+'forager_table_with_feeding_sizes.csv')\n",
    "weights = pd.read_excel(exp_path+sep+'weights.xlsx')"
   ]
  },
  {
   "cell_type": "code",
   "execution_count": 4,
   "metadata": {},
   "outputs": [
    {
     "data": {
      "text/html": [
       "<div>\n",
       "<style scoped>\n",
       "    .dataframe tbody tr th:only-of-type {\n",
       "        vertical-align: middle;\n",
       "    }\n",
       "\n",
       "    .dataframe tbody tr th {\n",
       "        vertical-align: top;\n",
       "    }\n",
       "\n",
       "    .dataframe thead th {\n",
       "        text-align: right;\n",
       "    }\n",
       "</style>\n",
       "<table border=\"1\" class=\"dataframe\">\n",
       "  <thead>\n",
       "    <tr style=\"text-align: right;\">\n",
       "      <th></th>\n",
       "      <th>ant_id</th>\n",
       "      <th>feeding_start</th>\n",
       "      <th>feeding_end</th>\n",
       "      <th>food_source</th>\n",
       "      <th>last_interaction_before_end</th>\n",
       "      <th>last_interaction_before_partner</th>\n",
       "      <th>first_interaction_after_start</th>\n",
       "      <th>first_interaction_after_partner</th>\n",
       "      <th>crop_before</th>\n",
       "      <th>crop_after</th>\n",
       "      <th>feeding_size_intensity</th>\n",
       "    </tr>\n",
       "  </thead>\n",
       "  <tbody>\n",
       "    <tr>\n",
       "      <th>0</th>\n",
       "      <td>76</td>\n",
       "      <td>48</td>\n",
       "      <td>102</td>\n",
       "      <td>yellow</td>\n",
       "      <td>43</td>\n",
       "      <td>-1</td>\n",
       "      <td>116</td>\n",
       "      <td>392</td>\n",
       "      <td>293.831787</td>\n",
       "      <td>288061.663399</td>\n",
       "      <td>287767.831612</td>\n",
       "    </tr>\n",
       "    <tr>\n",
       "      <th>1</th>\n",
       "      <td>148</td>\n",
       "      <td>92</td>\n",
       "      <td>172</td>\n",
       "      <td>yellow</td>\n",
       "      <td>43</td>\n",
       "      <td>-1</td>\n",
       "      <td>277</td>\n",
       "      <td>76</td>\n",
       "      <td>60206.528134</td>\n",
       "      <td>339347.484375</td>\n",
       "      <td>279140.956241</td>\n",
       "    </tr>\n",
       "    <tr>\n",
       "      <th>2</th>\n",
       "      <td>289</td>\n",
       "      <td>177</td>\n",
       "      <td>348</td>\n",
       "      <td>yellow</td>\n",
       "      <td>43</td>\n",
       "      <td>-1</td>\n",
       "      <td>361</td>\n",
       "      <td>72</td>\n",
       "      <td>6457.684912</td>\n",
       "      <td>493706.554688</td>\n",
       "      <td>487248.869775</td>\n",
       "    </tr>\n",
       "    <tr>\n",
       "      <th>3</th>\n",
       "      <td>392</td>\n",
       "      <td>203</td>\n",
       "      <td>250</td>\n",
       "      <td>yellow</td>\n",
       "      <td>158</td>\n",
       "      <td>76</td>\n",
       "      <td>294</td>\n",
       "      <td>95</td>\n",
       "      <td>127725.829687</td>\n",
       "      <td>454063.550000</td>\n",
       "      <td>326337.720313</td>\n",
       "    </tr>\n",
       "    <tr>\n",
       "      <th>4</th>\n",
       "      <td>289</td>\n",
       "      <td>415</td>\n",
       "      <td>439</td>\n",
       "      <td>yellow</td>\n",
       "      <td>383</td>\n",
       "      <td>72</td>\n",
       "      <td>476</td>\n",
       "      <td>36</td>\n",
       "      <td>359116.687500</td>\n",
       "      <td>497167.730713</td>\n",
       "      <td>138051.043213</td>\n",
       "    </tr>\n",
       "  </tbody>\n",
       "</table>\n",
       "</div>"
      ],
      "text/plain": [
       "   ant_id  feeding_start  feeding_end food_source  \\\n",
       "0      76             48          102      yellow   \n",
       "1     148             92          172      yellow   \n",
       "2     289            177          348      yellow   \n",
       "3     392            203          250      yellow   \n",
       "4     289            415          439      yellow   \n",
       "\n",
       "   last_interaction_before_end last_interaction_before_partner  \\\n",
       "0                           43                              -1   \n",
       "1                           43                              -1   \n",
       "2                           43                              -1   \n",
       "3                          158                              76   \n",
       "4                          383                              72   \n",
       "\n",
       "   first_interaction_after_start first_interaction_after_partner  \\\n",
       "0                            116                             392   \n",
       "1                            277                              76   \n",
       "2                            361                              72   \n",
       "3                            294                              95   \n",
       "4                            476                              36   \n",
       "\n",
       "     crop_before     crop_after  feeding_size_intensity  \n",
       "0     293.831787  288061.663399           287767.831612  \n",
       "1   60206.528134  339347.484375           279140.956241  \n",
       "2    6457.684912  493706.554688           487248.869775  \n",
       "3  127725.829687  454063.550000           326337.720313  \n",
       "4  359116.687500  497167.730713           138051.043213  "
      ]
     },
     "execution_count": 4,
     "metadata": {},
     "output_type": "execute_result"
    }
   ],
   "source": [
    "fdata.head()"
   ]
  },
  {
   "cell_type": "code",
   "execution_count": null,
   "metadata": {},
   "outputs": [],
   "source": [
    "weights"
   ]
  },
  {
   "cell_type": "code",
   "execution_count": null,
   "metadata": {},
   "outputs": [],
   "source": [
    "def get_consumed_weights(weights_df):\n",
    "    weights_df['difference'] = weights_df['before_g']-weights_df['after_g']\n",
    "    control_rows = weights_df['type']=='control'\n",
    "    treatment_rows = ~control_rows\n",
    "    evap = np.mean(weights_df['difference'][control_rows])\n",
    "    consumed_g = {}\n",
    "    for c in ['yellow','red']:\n",
    "        consumed_g[c] = weights_df.difference[treatment_rows & (weights_df['color']==c)].to_numpy()[0] - evap\n",
    "    return consumed_g\n",
    "    \n",
    "    "
   ]
  },
  {
   "cell_type": "code",
   "execution_count": null,
   "metadata": {},
   "outputs": [],
   "source": [
    "consumed_g = get_consumed_weights(weights)\n",
    "consumed_g"
   ]
  },
  {
   "cell_type": "code",
   "execution_count": null,
   "metadata": {},
   "outputs": [],
   "source": [
    "def get_consumed_intensities(feeding_df):\n",
    "    consumed_i = feeding_df['feeding_size_intensity'].groupby(fdata['food_source']).sum()\n",
    "    return consumed_i"
   ]
  },
  {
   "cell_type": "code",
   "execution_count": null,
   "metadata": {},
   "outputs": [],
   "source": [
    "consumed_i = get_consumed_intensities(fdata)\n",
    "consumed_i"
   ]
  },
  {
   "cell_type": "code",
   "execution_count": null,
   "metadata": {},
   "outputs": [],
   "source": [
    "def get_coversion_factors(consumed_i,consumed_g):\n",
    "    conversion_factors = {}\n",
    "    for c in ['red','yellow']:\n",
    "        ul = consumed_g[c]*1000\n",
    "        conversion_factors[c] = consumed_i[c]/ul\n",
    "    return pd.DataFrame([conversion_factors])"
   ]
  },
  {
   "cell_type": "code",
   "execution_count": null,
   "metadata": {},
   "outputs": [],
   "source": [
    "conversion_factors = get_coversion_factors(consumed_i,consumed_g)\n",
    "conversion_factors"
   ]
  },
  {
   "cell_type": "markdown",
   "metadata": {},
   "source": [
    "### write conversion factors"
   ]
  },
  {
   "cell_type": "code",
   "execution_count": null,
   "metadata": {},
   "outputs": [],
   "source": [
    "conversion_factors.to_csv(exp_path+sep+'conversion_factors_by_weight_and_feeding_sum.csv',index=False)"
   ]
  },
  {
   "cell_type": "code",
   "execution_count": null,
   "metadata": {},
   "outputs": [],
   "source": []
  },
  {
   "cell_type": "code",
   "execution_count": null,
   "metadata": {},
   "outputs": [],
   "source": []
  },
  {
   "cell_type": "code",
   "execution_count": null,
   "metadata": {},
   "outputs": [],
   "source": []
  },
  {
   "cell_type": "code",
   "execution_count": null,
   "metadata": {},
   "outputs": [],
   "source": []
  }
 ],
 "metadata": {
  "kernelspec": {
   "display_name": "Python 3",
   "language": "python",
   "name": "python3"
  },
  "language_info": {
   "codemirror_mode": {
    "name": "ipython",
    "version": 3
   },
   "file_extension": ".py",
   "mimetype": "text/x-python",
   "name": "python",
   "nbconvert_exporter": "python",
   "pygments_lexer": "ipython3",
   "version": "3.7.5"
  }
 },
 "nbformat": 4,
 "nbformat_minor": 2
}
