{
 "cells": [
  {
   "cell_type": "code",
   "execution_count": null,
   "metadata": {},
   "outputs": [],
   "source": [
    "import numpy as np\n",
    "import matplotlib.pyplot as plt\n",
    "import pandas as pd\n",
    "from Data import AntData, ForagerData\n",
    "from os import sep as sep"
   ]
  },
  {
   "cell_type": "code",
   "execution_count": null,
   "metadata": {},
   "outputs": [],
   "source": [
    "exp_path = r\"Y:\\Lior&Einav\\Experiments\\experiment11_140720\"\n",
    "feeding_filename = \"forager_feeding_table_with_interaction_data.xlsx\"\n",
    "bdata_path = r\"with food\\blob analysis normalized by old norm_mats\"\n",
    "bdata_filename = \"bdata_11_140720.csv\""
   ]
  },
  {
   "cell_type": "markdown",
   "metadata": {},
   "source": [
    "### Load Data"
   ]
  },
  {
   "cell_type": "markdown",
   "metadata": {},
   "source": [
    "#### Load feeding data"
   ]
  },
  {
   "cell_type": "code",
   "execution_count": null,
   "metadata": {},
   "outputs": [],
   "source": [
    "fdata = pd.read_excel(exp_path+sep+feeding_filename, usecols=\"A:D,F:I\")\n",
    "fdata.head()"
   ]
  },
  {
   "cell_type": "markdown",
   "metadata": {},
   "source": [
    "#### Load blob data"
   ]
  },
  {
   "cell_type": "code",
   "execution_count": null,
   "metadata": {},
   "outputs": [],
   "source": [
    "bdata = pd.read_csv(exp_path+sep+bdata_path+sep+bdata_filename, index_col='frame')\n",
    "bdata = bdata.drop(bdata.columns[0],axis=1)\n",
    "bdata.head()"
   ]
  },
  {
   "cell_type": "markdown",
   "metadata": {},
   "source": [
    "### Get feeding sizes"
   ]
  },
  {
   "cell_type": "code",
   "execution_count": null,
   "metadata": {},
   "outputs": [],
   "source": [
    "foragers = fdata.ant_id.unique()\n",
    "foragers"
   ]
  },
  {
   "cell_type": "code",
   "execution_count": null,
   "metadata": {},
   "outputs": [],
   "source": [
    "%matplotlib qt\n",
    "\n",
    "framelist=[]\n",
    "for ant_id in foragers:\n",
    "    ant = ForagerData(ant_id=ant_id, bdata_df=bdata, feedings_df=fdata)\n",
    "    ant.manual_correction(exp_path)\n",
    "    ant.get_feeding_sizes_intensity()\n",
    "    framelist.extend([ant.feedings_dict['red'],ant.feedings_dict['yellow']])\n",
    "    ant.plot_timeline_around_feedings()\n",
    "fdata_with_feed_sizes = pd.concat(framelist)\n",
    "fdata_with_feed_sizes.sort_index(inplace=True)\n",
    "fdata_with_feed_sizes.head()"
   ]
  },
  {
   "cell_type": "code",
   "execution_count": null,
   "metadata": {},
   "outputs": [],
   "source": [
    "len(fdata_with_feed_sizes)"
   ]
  },
  {
   "cell_type": "code",
   "execution_count": null,
   "metadata": {},
   "outputs": [],
   "source": [
    "fdata_with_feed_sizes['feeding_size_intensity'][fdata_with_feed_sizes['feeding_size_intensity']<0]=0"
   ]
  },
  {
   "cell_type": "markdown",
   "metadata": {},
   "source": [
    "### Write Data"
   ]
  },
  {
   "cell_type": "code",
   "execution_count": null,
   "metadata": {},
   "outputs": [],
   "source": [
    "# fdata_with_feed_sizes.to_csv(r'Y:\\Lior&Einav\\Experiments\\experiment11_140720\\forager_table_with_feeding_sizes.csv',index=False)"
   ]
  },
  {
   "cell_type": "code",
   "execution_count": null,
   "metadata": {},
   "outputs": [],
   "source": []
  },
  {
   "cell_type": "code",
   "execution_count": null,
   "metadata": {},
   "outputs": [],
   "source": []
  }
 ],
 "metadata": {
  "kernelspec": {
   "display_name": "Python 3",
   "language": "python",
   "name": "python3"
  },
  "language_info": {
   "codemirror_mode": {
    "name": "ipython",
    "version": 3
   },
   "file_extension": ".py",
   "mimetype": "text/x-python",
   "name": "python",
   "nbconvert_exporter": "python",
   "pygments_lexer": "ipython3",
   "version": "3.7.5"
  }
 },
 "nbformat": 4,
 "nbformat_minor": 2
}
